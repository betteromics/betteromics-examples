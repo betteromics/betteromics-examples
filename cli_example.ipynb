{
 "cells": [
  {
   "cell_type": "markdown",
   "id": "3ab757af",
   "metadata": {},
   "source": [
    "# Betteromics Command Line Interface (CLI) Example\n",
    "\n",
    "Get started with data exploration, pipelines, and querying on the Betteromics platform. "
   ]
  },
  {
   "cell_type": "markdown",
   "id": "02cd04a6",
   "metadata": {},
   "source": [
    "## Table Of Content:\n",
    "* [Prerequisites](#Prerequisites)\n",
    "    * [Install and configure the Betteromics CLI](#1.-Install-and-configure-the-Betteromics-CLI)\n",
    "    * [Install dependencies](#2.-Install-dependencies)\n",
    "    * [Log in and authenticate](#3.-Log-in-and-authenticate)\n",
    "* [Getting started with an example](#Getting-started-with-an-example)\n",
    "    * [Download or upload data to Betteromics as a resource](#Download-or-upload-data-to-Betteromics-as-a-resource)\n",
    "    * [Workflow-Orchestration](#Workflow-Orchestration)\n",
    "        * [Initialize the betteromics_cli_example project](#1.-Initialize-the-betteromics_cli_example-project)\n",
    "        * [Find the workflow file: example.py](#2.-Find-the-workflow-file:-example.py)\n",
    "        * [Register the local workflow to Betteromics](#3.-Register-the-local-workflow-to-Betteromics)\n",
    "        * [Executing a workflow using the CLI](#4.-Executing-a-workflow-using-the-CLI)\n",
    "        * [Explore all workflows](#5.-Explore-all-workflows)\n",
    "    * [Create a new dashboard](#Create-a-new-dashboard)\n",
    "    * [Add a report/chart to a dashboard](#Add-a-report/chart-to-a-dashboard)\n",
    "* [Appendix](#Appendix)\n",
    "    * [Workflow project directory files](#Workflow-project-directory-files)\n",
    "    * [Example wf details](#Example-wf-details)"
   ]
  },
  {
   "cell_type": "markdown",
   "id": "f30b90ac",
   "metadata": {},
   "source": [
    "## Prerequisites\n",
    "\n",
    "> **Note:**\n",
    "> You must have access to a Betteromics environment, other than https://public-demo.betteromics.com/, in order to run CLI commands. If you need help accessing your Betteromics environment, contact your customer success engineer or reach out to us on our [website](https://betteromics.com/) (click \"Try it\" and \"Request a Tour\").\n",
    "\n",
    "\n",
    "### 1. Install and configure the Betteromics CLI \n",
    "Follow the instructions on your environment support page (ex: https://your_environment.betteromics.com/support) under <i>\"Local Development\"</i>. You can check your configuration by running `betteromics info`.\n",
    "\n",
    "### 2. Install dependencies\n",
    "You may also need to set up the required software and tools:\n",
    "- [Python](https://www.python.org/downloads/)\n",
    "- Docker (you can either use [Docker Desktop](https://www.docker.com/) or type `brew install docker` in your terminal to install docker)\n",
    "- [Virtualenv](https://pypi.org/project/virtualenv/) or [pyenv](https://github.com/pyenv/pyenv-virtualenv)\n",
    "- IDE of your choice (e.g. [Visual Studio](https://code.visualstudio.com/) or [PyCharm](https://www.jetbrains.com/pycharm/))\n",
    "\n",
    "### 3. Log in and authenticate\n",
    "Use your **terminal prompt** to run the command below, using your team's environment name for the `--context` value. Your environment name is the first part of the URL before \".betteromics.com\". For example, on public-demo.betteromics.com, the environment name is `public-demo`. Follow the instructions on your terminal to authenticate. "
   ]
  },
  {
   "cell_type": "code",
   "execution_count": null,
   "id": "45dbc729",
   "metadata": {},
   "outputs": [],
   "source": [
    "# On your terminal, make sure to replace {your_environment} with the name of your environment\n",
    "betteromics --context {your_environment} authenticate"
   ]
  },
  {
   "cell_type": "markdown",
   "id": "c33a19af",
   "metadata": {},
   "source": [
    "If you have successfully followed the instructions so far, you should see something like \n",
    "\n",
    "<pre> You're authenticated to access resources in the {your_environment} context until ... </pre>"
   ]
  },
  {
   "cell_type": "markdown",
   "id": "635b4a1f",
   "metadata": {},
   "source": [
    "## Getting started with an example\n",
    "Let's explore common commands used for workflow orchestration (data pipelines, bioinformatics pipelines, ML pipelines, etc.), data access, and visualizations. "
   ]
  },
  {
   "cell_type": "markdown",
   "id": "0070c929",
   "metadata": {},
   "source": [
    "### Download or upload data to Betteromics as a resource"
   ]
  },
  {
   "cell_type": "markdown",
   "id": "efd3ff3c",
   "metadata": {},
   "source": [
    "You can use the CLI to upload data from your computer, S3, Google Drive and Benchling. Let's assume our data is available in [this](https://docs.google.com/spreadsheets/d/1JpxTzCg9x7qxywCDKSSC4JlrQKpwjn-qyZbTw4zw4rs) Google Sheet and looks like:"
   ]
  },
  {
   "cell_type": "markdown",
   "id": "46bf7047",
   "metadata": {},
   "source": [
    "\n",
    "| Language  | Greeting     | Fun Fact                                                                                                  |\n",
    "|-----------|--------------|-----------------------------------------------------------------------------------------------------------|\n",
    "| English   | Hello        | The word Hello comes from Old English hal meaning whole or healthy.                                       |\n",
    "| French    | Bonjour      | In French, it is considered impolite to greet someone without saying their title or honorific.           |\n",
    "| Spanish   | Hola         | Spanish speakers commonly use two kisses on the cheek as a greeting.                                      |\n",
    "| Japanese  | Konnichiwa   | In Japan, it's customary to bow as a form of greeting.                                                     |\n",
    "| Italian   | Ciao         | Ciao can mean both hello and goodbye in Italian.                                                          |\n",
    "| Hawaiian  | Aloha        | Aloha means hello, goodbye, love, and compassion in Hawaiian.                                              |\n"
   ]
  },
  {
   "cell_type": "markdown",
   "id": "271ea48b",
   "metadata": {},
   "source": [
    "Run this command to upload the file as a resource named `HelloWorld`:"
   ]
  },
  {
   "cell_type": "code",
   "execution_count": null,
   "id": "60afea84",
   "metadata": {},
   "outputs": [],
   "source": [
    "betteromics --context {your_environment} create-resource --origin google-sheet --name HelloWorld https://docs.google.com/spreadsheets/d/1JpxTzCg9x7qxywCDKSSC4JlrQKpwjn-qyZbTw4zw4rs`"
   ]
  },
  {
   "cell_type": "markdown",
   "id": "1461b09d",
   "metadata": {},
   "source": [
    "A successful resource creation will result in a message such as\n",
    "\n",
    "<pre>\n",
    "File successfully uploaded.\n",
    "View it on betteromics here: https://{your_environment}.betteromics.com/resources/RESXXX\n",
    "</pre>"
   ]
  },
  {
   "cell_type": "markdown",
   "id": "9aaa3579",
   "metadata": {},
   "source": [
    "You may want to download data from Betteromics to analyze data locally in Jupyter, Excel, or other analysis software. You can download data from any resource using the barcode starting with `RES` by running the command below. In the below example, the data at RES12345 is downloaded to `./downloaded_file`."
   ]
  },
  {
   "cell_type": "code",
   "execution_count": null,
   "id": "fb52da9a",
   "metadata": {},
   "outputs": [],
   "source": [
    "betteromics --context {your_environment} download-resource RES12345 ./downloaded_file"
   ]
  },
  {
   "cell_type": "markdown",
   "id": "d7ce6438",
   "metadata": {},
   "source": [
    "### Workflow Orchestration\n",
    "\n",
    "Create and run workflows to automate any data ingestion, processing or analysis steps. Betteromics workflows are powered by Flyte. Common use cases include:\n",
    "* Bioinformatics pipelines\n",
    "* ETL pipelines\n",
    "* Data ingestion\n",
    "* Standard analyses\n",
    "\n",
    "The following example creates and runs a workflow called `wf`, comprised of two tasks (`say_hello` and `greeting_length`). The workflow will be stored in a project folder called `betteromics_cli_example/`.\n",
    "\n",
    "#### 1. Initialize the betteromics_cli_example project\n",
    "The betteromics init command is used to initialize a new project or workspace. It sets up the necessary configuration and directory structure to start working on your project. Read more about the file structure [here](#Workflow-project-directory-files)."
   ]
  },
  {
   "cell_type": "code",
   "execution_count": null,
   "id": "f0f794c3",
   "metadata": {},
   "outputs": [],
   "source": [
    "# This will initialize a new project called betteromics_cli_example with directory structure\n",
    "betteromics init remote-config betteromics_cli_example"
   ]
  },
  {
   "cell_type": "markdown",
   "id": "29731370",
   "metadata": {},
   "source": [
    "If the new project is successfully initialized, the output wil look like this:\n",
    "\n",
    "\n",
    "<pre>\n",
    "Created workflow scaffold in betteromics_cli_example. When you are ready, run the register action to package and upload your changes to Betteromics. \n",
    "</pre>"
   ]
  },
  {
   "cell_type": "markdown",
   "id": "af1ae358",
   "metadata": {},
   "source": [
    "Let's take a look at this project"
   ]
  },
  {
   "cell_type": "code",
   "execution_count": 1,
   "id": "70b00898",
   "metadata": {},
   "outputs": [
    {
     "name": "stdout",
     "output_type": "stream",
     "text": [
      "Dockerfile       README.md        requirements.txt\r\n",
      "LICENSE          docker_build.sh  \u001b[34mworkflows\u001b[m\u001b[m\r\n"
     ]
    }
   ],
   "source": [
    "!ls betteromics_cli_example"
   ]
  },
  {
   "cell_type": "markdown",
   "id": "cdd1dec1",
   "metadata": {},
   "source": [
    "#### 2. Find the workflow file: example.py"
   ]
  },
  {
   "cell_type": "code",
   "execution_count": 2,
   "id": "c84b369b",
   "metadata": {},
   "outputs": [
    {
     "name": "stdout",
     "output_type": "stream",
     "text": [
      "__init__.py example.py\r\n"
     ]
    }
   ],
   "source": [
    "!ls betteromics_cli_example/workflows/"
   ]
  },
  {
   "cell_type": "markdown",
   "id": "c2b79467",
   "metadata": {},
   "source": [
    "Take a moment to review the example file provided. The `example.py`, serves as a guide to help you understand the structure of a Flyte workflow."
   ]
  },
  {
   "cell_type": "markdown",
   "id": "8d355519",
   "metadata": {},
   "source": [
    "#### 3. Register the local workflow to Betteromics\n",
    "You can now register your workflow by following the command below. By registrating your workflow, you will be able to see it in the user interface!"
   ]
  },
  {
   "cell_type": "code",
   "execution_count": null,
   "id": "d4b9a86f",
   "metadata": {
    "variables": {
     "your_environment": {}
    }
   },
   "outputs": [],
   "source": [
    "betteromics --context {your_environment} register ./betteromics_cli_example betteromics_cli_example workflows.example.wf"
   ]
  },
  {
   "cell_type": "markdown",
   "id": "8933cdb1",
   "metadata": {},
   "source": [
    "This is what you should see after registering the example workflow:\n",
    "\n",
    "![workflow registration](https://docs.google.com/uc?export=download&id=1eol6J9exc9Xi9LcoUQaCGn8D2eg1l1PN)"
   ]
  },
  {
   "cell_type": "markdown",
   "id": "b0c49adf",
   "metadata": {},
   "source": [
    "#### 4. Executing a workflow using the CLI\n",
    "\n",
    "You can execute a registered workflow by passing the workflow barcode and required inputs. If the registered workflow (`wf` in this case) was created with barcode R6789 (this will vary per environment), the below example will start a workflow execution."
   ]
  },
  {
   "cell_type": "code",
   "execution_count": null,
   "id": "d2529f75",
   "metadata": {},
   "outputs": [],
   "source": [
    "betteromics --context {your_environment} run-recipe-execution --barcode R6789 --input name=name_example"
   ]
  },
  {
   "cell_type": "markdown",
   "id": "f4433d36",
   "metadata": {},
   "source": [
    "If the execution was successfully submitted, the output wil look like this:\n",
    "\n",
    "<pre>\n",
    "# Execution status: RecipeExecutionStatus.SUBMITTED.\n",
    "# View it on betteromics here: https://{your_environment}.betteromics.com/executions/{REXX}\n",
    "</pre>"
   ]
  },
  {
   "cell_type": "markdown",
   "id": "442e3c8d",
   "metadata": {},
   "source": [
    "**Note:** You can also execute your newly registered workflow through the user interface by clicking on `New Execution` in the Executions page. "
   ]
  },
  {
   "cell_type": "markdown",
   "id": "552a69b9",
   "metadata": {},
   "source": [
    "#### 5. Explore all workflows"
   ]
  },
  {
   "cell_type": "markdown",
   "id": "b55f7c85",
   "metadata": {},
   "source": [
    "If you want to execute a workflow created by Betteromics or another colleague, you can easily view all other workflows in the environment by running the following to retrieve the workflow barcode and input information:"
   ]
  },
  {
   "cell_type": "code",
   "execution_count": null,
   "id": "84d8a862",
   "metadata": {},
   "outputs": [],
   "source": [
    "betteromics --context {your_environment} list-recipes"
   ]
  },
  {
   "cell_type": "code",
   "execution_count": null,
   "id": "ed702702",
   "metadata": {},
   "outputs": [],
   "source": [
    "betteromics --context {your_environment} get-recipe {barcode}"
   ]
  },
  {
   "cell_type": "markdown",
   "id": "70254f83",
   "metadata": {},
   "source": [
    "By running the command above, you will retrieve comprehensive information about the registered workflow with that barcode. The details include its creation timestamp, the user who created it, name of the workflow, etc. A barcode for a workflow is an alphanumeric value that starts with the letter R"
   ]
  },
  {
   "cell_type": "markdown",
   "id": "e1d92253",
   "metadata": {},
   "source": [
    "## Create a new dashboard"
   ]
  },
  {
   "cell_type": "markdown",
   "id": "86cef499",
   "metadata": {},
   "source": [
    "Once your data is in the Betteromics platform, it is common to visualize data insights in a dashboard. Betteromics dashboards allows you to collaboratively make real-time data-driven decisions instead of sharing screenshots and spreadsheets.\n",
    "\n",
    "Let's create a dashboard called `betteromics_cli_example`"
   ]
  },
  {
   "cell_type": "code",
   "execution_count": null,
   "id": "2dec6de7",
   "metadata": {},
   "outputs": [],
   "source": [
    "betteromics --context {your_environment} create-dashboard --key cli_example_key betteromics_cli_example"
   ]
  },
  {
   "cell_type": "markdown",
   "id": "795b671d",
   "metadata": {},
   "source": [
    "A successful dashboard creation command will have an output similar to below:\n",
    "\n",
    "<pre>\n",
    "Dashboard successfully created. Dashboard key is cli_example_key.\n",
    "View it on betteromics here: https://{your_environment}.betteromics.com/dashboards/....\n",
    "</pre>"
   ]
  },
  {
   "cell_type": "markdown",
   "id": "1baa1e0d",
   "metadata": {},
   "source": [
    "## Add a report/chart to a dashboard\n",
    "A report is an aggregation of SQL queries. you can create a report and add it to a dashboard of your choice by running the command below:"
   ]
  },
  {
   "cell_type": "code",
   "execution_count": null,
   "id": "32dedd2f",
   "metadata": {},
   "outputs": [],
   "source": [
    "betteromics --context {your_environment} create-resource-preview-chart --resources {RESXX} --dashboard-key cli_example_key"
   ]
  },
  {
   "cell_type": "markdown",
   "id": "00477b17",
   "metadata": {},
   "source": [
    "```\n",
    "Chart successfully created.\n",
    "View it on betteromics here: https://{your_environment}.betteromics.com/reports/...\n",
    "View the dashboard on betteromics here: https://{your_environment}.betteromics.com/dashboards/...\n",
    "```"
   ]
  },
  {
   "cell_type": "markdown",
   "id": "7ac6d49f",
   "metadata": {},
   "source": [
    "In order to add more charts and visualizations and gain insights from your data, we highly recommend you move forward with your environment's page and take advatange of our user interface, for example by adding more queries and charts to your reports, get familiar with filters on the dashboards, etc.\n",
    "\n",
    "At Betteromics, we are committed to continuously enhance our platform and add more functionality into both the platform and CLI to make your experience even more seamless and powerful! We hope this example provided id a good starting point for discovering the myriad functionalities we offer. For those curious minds, please dive into our website and your team's environment page to uncover exciting new features – there's a a lot more waiting for you!\n",
    "\n",
    "<br>"
   ]
  },
  {
   "cell_type": "markdown",
   "id": "61428171",
   "metadata": {},
   "source": [
    "## Appendix\n",
    "### Workflow project directory files"
   ]
  },
  {
   "cell_type": "markdown",
   "id": "134d3d84",
   "metadata": {},
   "source": [
    "When you run the `betteromics init` command, the following files will be initialized inside the workflow project. You can customize and expand these files to tailor the project to your specific requirements.\n",
    "\n",
    "##### <ins><font color='navy'>workflows</font></ins> \n",
    "Flyte is internally used at Betteromics and is a tool for orchestrating and managing workflows. The workflows directory is where you can define and store the Flyte workflows for your project. Inside this directory, you can define workflow scripts, task configurations, and workflow dependencies.\n",
    "\n",
    "##### <ins><font color='navy'>requirements.txt</font></ins>\n",
    "The requirements.txt file should be used in your project to list the required packages and libraries. It allows for easy installation of project dependencies using tools like pip.\n",
    "\n",
    "##### <ins> <font color='navy'>Dockerfile</font></ins>\n",
    "The Dockerfile is used to define the environment for your Betteromics project. It contains instructions for building a Docker image with all the dependencies and tools required for your project. You can customize this file to suit your project's specific needs.\n",
    "\n",
    "##### <ins><font color='navy'>docker_build.sh</font></ins>\n",
    "docker_build.sh is a shell script used to automate the Docker image building process. It often contains commands to build the Docker image, tag it, and push it to a container registry, making it easier for users to manage their project's environment.\n",
    "\n",
    "##### <ins><font color='navy'>README.md</font></ins>\n",
    "README.md is a markdown file that serves as your project's documentation. It provides an overview of the project, its purpose, how to set it up, and any other essential information for users and collaborators.\n",
    "\n",
    "##### <ins><font color='navy'>LICENSE</font></ins>\n",
    "The LICENSE file contains the software license associated with your project. It specifies the terms and conditions under which the project can be used, modified, and distributed. You should choose a license that aligns with your project's goals and open-source principles.\n",
    "\n",
    "<br>"
   ]
  },
  {
   "cell_type": "markdown",
   "id": "d7052df7",
   "metadata": {},
   "source": [
    "### Example `wf` details\n",
    "If you look at the workflows directory, you will see two files; `__init__.py` and `example.py`. \n",
    "\n",
    "If you look at the code in `example.py`, you will see the default example has two tasks (`say_hello` and `greeting_length`) and a workflow called `wf`.  In Flyte, a Task and a Workflow serve distinct roles within the platform. \n",
    "\n",
    "A **Flyte Task** is a self-contained, containerized unit of work that performs a specific function or computation, akin to a building block. On the other hand, a **Flyte Workflow** is a composition of multiple tasks orchestrated to achieve a larger goal. Workflows define the order and dependencies among tasks, guiding the overall execution flow to produce a meaningful result."
   ]
  }
 ],
 "metadata": {
  "kernelspec": {
   "display_name": "Python 3 (ipykernel)",
   "language": "python",
   "name": "python3"
  },
  "language_info": {
   "codemirror_mode": {
    "name": "ipython",
    "version": 3
   },
   "file_extension": ".py",
   "mimetype": "text/x-python",
   "name": "python",
   "nbconvert_exporter": "python",
   "pygments_lexer": "ipython3",
   "version": "3.11.5"
  }
 },
 "nbformat": 4,
 "nbformat_minor": 5
}

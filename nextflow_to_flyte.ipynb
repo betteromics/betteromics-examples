{
 "cells": [
  {
   "cell_type": "markdown",
   "id": "5fe370c2",
   "metadata": {},
   "source": [
    "# Running a Nextflow pipeline in Betteromics"
   ]
  },
  {
   "cell_type": "markdown",
   "id": "ba6b3819",
   "metadata": {},
   "source": [
    "## Table Of Contents:\n",
    "* [Introduction](#Introduction)\n",
    "    * [Prerequisites](#Prerequisites)\n",
    "* [Getting started with an example](#Getting-started-with-an-example)\n",
    "    * [Data](#Data)\n",
    "    * [Nextflow example](#Nextflow-example)\n",
    "* [Running the example above in Betteromics](#Running-the-example-above-in-Betteromics)\n",
    "    * [Option 1: Execute the Nextflow pipeline within Flyte](#Execute-the-Nextflow-pipeline-within-Flyte)\n",
    "    * [Option 2: Conversion of the Nextflow pipeline to Flyte](#Conversion-of-the-Nextflow-pipeline-to-Flyte)\n",
    "    * [Registering and running the new workflow on Betteromics](#Registering-and-running-the-new-workflow-on-Betteromics)\n"
   ]
  },
  {
   "cell_type": "markdown",
   "id": "0be24b8f",
   "metadata": {},
   "source": [
    "# Introduction\n",
    "In this tutorial, we will guide you through the process of running a simple Nextflow pipeline in Betteromics platform. Once your Nextflow pipeline is on Betteromics, users can run them in a web UI, and analyze the inputs and outputs of each run easily."
   ]
  },
  {
   "cell_type": "markdown",
   "id": "2c6f794d",
   "metadata": {},
   "source": [
    "## Prerequisites\n",
    "\n",
    "> **Note:**\n",
    "You must have access to a Betteromics environment, other than https://public-demo.betteromics.com/, in order to run Betteromics CLI commands. If you need help accessing your Betteromics environment, contact Betteromics Support or reach out to us on our [website](https://betteromics.com/) (click \"Try it\" and \"Request a Tour\")\n",
    "    \n",
    "    \n",
    "Before you begin, make sure you have the following installed:\n",
    "\n",
    "* Nextflow: Install [Nextflow website](https://nextflow.io/) using `curl -s https://get.nextflow.io | bash`\n",
    "* Flytekit: Install [Flytekit](https://pypi.org/project/flytekit/) using `pip install flytekit`\n",
    "\n",
    "Throughout this notebook, we will use some of the utilities described in Betteromics CLI. You can learn more about the commands used in [here](https://github.com/betteromics/betteromics-examples/blob/main/cli_example.ipynb)"
   ]
  },
  {
   "cell_type": "markdown",
   "id": "c6126467",
   "metadata": {},
   "source": [
    "# Getting started with an example\n",
    "\n",
    "Let's start by understanding the Nextflow script that we plan to run in Betteromics. Betteromics natively supports Flyte as a workflow engine, but as you will see in this notebook, it can integrate with other common engines like Nextflow and Cromwell. Let's look an an example together:"
   ]
  },
  {
   "cell_type": "markdown",
   "id": "95279e55",
   "metadata": {},
   "source": [
    "## Data\n",
    "For this example, we have `gene_counts.tsv` that contains gene names, the corresponding Ensembl IDs, gene expressions in different samples, and their counts.\n",
    "\n",
    "You can access the full data in [this](https://docs.google.com/spreadsheets/d/1sRZwJ55ay6IHbj51sDSFupmJv86Ceg9W9EOkuJiL8t0) Google Sheet. The content of this file looks something like below. Download this file (as a tsv) and call it `gene_counts.tsv`\n"
   ]
  },
  {
   "cell_type": "markdown",
   "id": "9ac20ac8",
   "metadata": {},
   "source": [
    "| Gene ID          | Gene names | Sample ID   | Count |\n",
    "|------------------|-------------|-----------|-------|\n",
    "| ENSG00000138395  | CDK15       | sample_1  | 0     |\n",
    "| ENSG00000151952  | TMEM132D    | sample_1  | 1     |\n",
    "| ENSG00000155506  | LARP1       | sample_1  | 3     |\n",
    "| ENSG00000162616  | DNAJB4      | sample_1  | 753   |\n",
    "| ENSG00000162621  | LRRC53      | sample_1  | 4     |\n",
    "| ENSG00000179420  | OR6W1P      | sample_1  | 74    |\n",
    "| ENSG00000184661  | CDCA2       | sample_1  | 2     |\n",
    "| ENSG00000229663  | DPY19L4P1   | sample_3  | 4046  |\n",
    "| ENSG00000229753  | RPS27AP15   | sample_3  | 1     |\n",
    "| ENSG00000234222  | LIX1L-AS1   | sample_3  | 31    |\n",
    "| ENSG00000237950  | LINC02918   | sample_3  | 0     |\n",
    "| ENSG00000239731  | RN7SL825P   | sample_3  | 3     |\n",
    "| ENSG00000252929  | RNU6-218P   | sample_3  | 3     |\n",
    "| ENSG00000263432  | RN7SL689P   | sample_3  | 111   |\n",
    "| ENSG00000266509  | MIR3934     | sample_3  | 1     |\n",
    "| ENSG00000269439  | PGLS-DT     | sample_3  | 2     |\n",
    "| ENSG00000214200  | TPM3P2      | sample_8  | 1     |\n",
    "| ENSG00000220267  | ACTBP8      | sample_8  | 3     |\n",
    "| ENSG00000226693  | NXNP1       | sample_8  | 2     |\n",
    "| ENSG00000229663  | DPY19L4P1   | sample_8  | 86    |\n"
   ]
  },
  {
   "cell_type": "markdown",
   "id": "dc762334",
   "metadata": {},
   "source": [
    "Let's get started by uploading this data to Betteromics platform. You can do this either on the web UI or\n",
    "on your **terminal** by using the CLI command `create_resource` like below (make sure you are logged in to your environment)"
   ]
  },
  {
   "cell_type": "markdown",
   "id": "e3817f50",
   "metadata": {},
   "source": [
    "<pre>\n",
    "betteromics --context {your_environment} create-resource --origin local gene_counts.tsv --name gene_counts.tsv\n",
    "</pre>\n",
    "\n",
    "If successful, it will result in a message such as below where your_environment is :\n",
    "<pre>\n",
    "File successfully uploaded.\n",
    "View it on betteromics here: https://{your_environment}.betteromics.com/resources/RESXXX\n",
    "</pre>\n",
    "\n",
    "\n",
    "Please visit the link provided above and get familiar with the resources tab on our platform. On the Resource Metadata page, you will see a field called `Location` which is a path to the data on S3. We will need this S3 path (we're calling it S3_path) throughout this example. "
   ]
  },
  {
   "cell_type": "markdown",
   "id": "240a8a68",
   "metadata": {},
   "source": [
    "## Nextflow example\n",
    "\n",
    "Throughout this tutorial, we're gonna use template workflows provided by Betteromics. There workflow templates are available on [Betteromics github repository](https://github.com/betteromics).  "
   ]
  },
  {
   "cell_type": "code",
   "execution_count": 1,
   "id": "a682c5f1",
   "metadata": {},
   "outputs": [],
   "source": [
    "betteromics_github_repo = \"https://github.com/betteromics/betteromics-examples.git\""
   ]
  },
  {
   "cell_type": "markdown",
   "id": "6c367655",
   "metadata": {},
   "source": [
    "On your **terminal**, run the cookiecutter command below to get the Nextflow template (called `nextflow_example`) provided by Betteromics. You can find the Nextflow pipeline under `nextflow_example/gene_count_example.nf`. This script reads gene names and counts from a file on S3 (`gene_counts.tsv` we uploaded above) that is passed as an argument and writes the output to a file if the count is greater than 10."
   ]
  },
  {
   "cell_type": "code",
   "execution_count": 2,
   "id": "e7c0c1ec",
   "metadata": {},
   "outputs": [],
   "source": [
    "!cookiecutter $betteromics_github_repo --directory=\"workflow-templates/nextflow_example\" --no-input "
   ]
  },
  {
   "cell_type": "code",
   "execution_count": 3,
   "id": "29b077a8",
   "metadata": {},
   "outputs": [
    {
     "name": "stdout",
     "output_type": "stream",
     "text": [
      "gene_count_example.nf\r\n"
     ]
    }
   ],
   "source": [
    "!ls nextflow_example"
   ]
  },
  {
   "cell_type": "markdown",
   "id": "3332ac2a",
   "metadata": {},
   "source": [
    "Let's take a look at our Nextflow script:"
   ]
  },
  {
   "cell_type": "code",
   "execution_count": null,
   "id": "fba2324c-b9ff-409f-be32-6e88bc4b272a",
   "metadata": {},
   "outputs": [],
   "source": [
    "# %load nextflow_example/gene_count_example.nf\n",
    "/* This script reads gene names and counts from a file (called gene_counts.tsv that is on S3) and writes the output to \n",
    "a file if the count is greater than 10. */\n",
    "\n",
    "params.outdir = './nextflow_example'\n",
    "params.gene_counts = null\n",
    "MINIMUM_COUNT = 10\n",
    "\n",
    "// Check if the gene_counts parameter is provided\n",
    "if (params.gene_counts == null) {\n",
    "    error \"Please provide the --gene_counts parameter with the S3 path.\"\n",
    "}\n",
    "\n",
    "Channel\n",
    "    .fromPath( params.gene_counts ) \n",
    "    .splitCsv( header: true, sep: '\\t' )\n",
    "    .map { row -> tuple( row.gene_id, row.gene_name, row.sample_id, row.count ) }\n",
    "    .set { gene_counts_run_ch }\n",
    "    \n",
    "process filter_low_gene_counts {\n",
    "\n",
    "    input:\n",
    "    tuple val(gene_id), val(gene_name), val(sample_id), val(count)\n",
    "    \n",
    "    output:\n",
    "    path \"out.txt\"\n",
    "        \n",
    "    shell:\n",
    "    \"\"\"\n",
    "    if [[ ! -f out.txt ]]; then\n",
    "        echo \"gene_id\\tgene_name\\tsample_id\\tcount\" > out.txt\n",
    "    fi\n",
    "    \n",
    "    echo \"$gene_id\\t$gene_name\\t$sample_id\\t$count\" | awk -F '\\\\t' '\\$4 >= $MINIMUM_COUNT {print \\$0}' >> out.txt\n",
    "    \"\"\"\n",
    "}\n",
    "\n",
    "\n",
    "workflow {\n",
    "    filter_low_gene_counts(gene_counts_run_ch)\n",
    "    .collectFile(\n",
    "        name: 'output.tsv',\n",
    "        storeDir:params.outdir,\n",
    "        keepHeader: true,\n",
    "        )\n",
    "}\n",
    "\n"
   ]
  },
  {
   "cell_type": "markdown",
   "id": "6d0deb41",
   "metadata": {},
   "source": [
    "You can run the Nextflow script above by running the following command. This script will collect all the information from different channels and writes them to one file called `output.tsv`"
   ]
  },
  {
   "cell_type": "code",
   "execution_count": 5,
   "id": "ad3eeaed",
   "metadata": {},
   "outputs": [],
   "source": [
    "%%capture \n",
    "#Feel free to comment out the command above to see the logs/progress\n",
    "!nextflow run nextflow_example/gene_count_example.nf -plugins nf-amazon --gene_counts {YOUR_S3_PATH}"
   ]
  },
  {
   "cell_type": "code",
   "execution_count": 6,
   "id": "e16329a5",
   "metadata": {},
   "outputs": [],
   "source": [
    "%%capture\n",
    "\n",
    "# Clean up project cache and work directories (Force clean)\n",
    "!nextflow clean -f ;"
   ]
  },
  {
   "cell_type": "markdown",
   "id": "f3471068",
   "metadata": {},
   "source": [
    "Let's look at the output file (`nextflow_example/output.tsv`)"
   ]
  },
  {
   "cell_type": "code",
   "execution_count": 7,
   "id": "9b04f99f",
   "metadata": {},
   "outputs": [
    {
     "name": "stdout",
     "output_type": "stream",
     "text": [
      "gene_id          gene_name  sample_id  count\r\n",
      "ENSG00000115266  APC2       sample_5   198\r\n",
      "ENSG00000242123  RPL36AP47  sample_3   187\r\n",
      "ENSG00000168090  COPS6      sample_7   44\r\n",
      "ENSG00000220267  ACTBP8     sample_1   103\r\n",
      "ENSG00000162616  DNAJB4     sample_1   753\r\n",
      "ENSG00000171208  NETO2      sample_8   70\r\n",
      "ENSG00000266509  MIR3934    sample_1   30\r\n",
      "ENSG00000269439  PGLS-DT    sample_5   22\r\n",
      "ENSG00000234222  LIX1L-AS1  sample_7   32\r\n"
     ]
    }
   ],
   "source": [
    "!column -t nextflow_example/output.tsv | head"
   ]
  },
  {
   "cell_type": "markdown",
   "id": "b987987f",
   "metadata": {},
   "source": [
    "## Running the example above in Betteromics\n",
    "\n",
    "As we mentioned before, Betteromics workflows are powered by Flyte. To run the Nextflow script above in Betteromics platform, we will execute the Nextflow process within a Flyte task as a subprocess call (Option 1). This means that we don't need to modify existing Nextflow code.\n",
    "\n",
    "Alternatively, you can opt for a complete conversion of the Nextflow pipeline to Flyte (Option 2) for exploring enhanced integration - features like better monitoring, caching of intermediate results, and built-in workflow versioning."
   ]
  },
  {
   "cell_type": "markdown",
   "id": "279ae702",
   "metadata": {},
   "source": [
    "## Option 1\n",
    "\n",
    "### Execute the Nextflow pipeline within Flyte\n"
   ]
  },
  {
   "cell_type": "markdown",
   "id": "96905886-751d-4bb2-a241-143085a8ffaa",
   "metadata": {},
   "source": [
    "### Initialize a flyte project\n",
    "\n",
    "You can create a new flyte project that runs Nextflow as a subprocess call in Flyte by using our workflow template for this example:"
   ]
  },
  {
   "cell_type": "code",
   "execution_count": 8,
   "id": "d3eadcdf",
   "metadata": {},
   "outputs": [
    {
     "name": "stdout",
     "output_type": "stream",
     "text": [
      "Created workflow scaffold in nextflow_subprocess_example. When you are ready, run the register action to package and upload your changes to Betteromics.\r\n"
     ]
    }
   ],
   "source": [
    "!betteromics init remote-config nextflow_subprocess_example \\\n",
    "                        --git-url $betteromics_github_repo \\\n",
    "                        --flyte-template workflow-templates/nextflow_subprocess_example"
   ]
  },
  {
   "cell_type": "markdown",
   "id": "0287c773",
   "metadata": {},
   "source": [
    "The command above will initialize some files inside the workflow project (called `nextflow_subprocess_example`). You can customize and expand these files to tailor the project to your specific requirements.\n",
    "\n",
    "If this is your first time working with Flyte workflows, take a moment to review the example files provided to get familiar with the content. "
   ]
  },
  {
   "cell_type": "markdown",
   "id": "857e9ddd",
   "metadata": {},
   "source": [
    "Let's take a look at `nextflow_subprocess_example/workflows/nf_subprocess.py`, our flyte workflow that will run Nextflow as a subprocess."
   ]
  },
  {
   "cell_type": "code",
   "execution_count": null,
   "id": "b783a9b8",
   "metadata": {},
   "outputs": [],
   "source": [
    "# %load nextflow_subprocess_example/workflows/nf_subprocess.py\n",
    "\"\"\"\n",
    "This module defines a Flyte workflow for an existing Nextflow script.\n",
    "\"\"\"\n",
    "\n",
    "import subprocess\n",
    "from typing import NamedTuple\n",
    "import os\n",
    "from pathlib import Path\n",
    "import flytekit\n",
    "from flytekit import task, workflow\n",
    "from flytekit.types.file import FlyteFile\n",
    "\n",
    "\n",
    "def subp_run(cmd):\n",
    "    \"\"\"\n",
    "    Run a subprocess command and print its output and error messages.\n",
    "\n",
    "    Parameters:\n",
    "    - cmd (list): A list representing the command to be executed.\n",
    "\n",
    "    Raises:\n",
    "    - subprocess.CalledProcessError: If the subprocess command returns a non-zero exit code.\n",
    "\n",
    "    Returns:\n",
    "    - None\n",
    "    \"\"\"\n",
    "    try:\n",
    "        with subprocess.Popen(cmd, stdout=subprocess.PIPE, stderr=subprocess.PIPE, text=True) as proc:\n",
    "            for line in proc.stdout:\n",
    "                print(\"Output:\", line, end=\"\", flush=True)\n",
    "\n",
    "            for line in proc.stderr:\n",
    "                print(\"Error:\", line, end=\"\", flush=True)\n",
    "\n",
    "            # Wait until process finishes and get the returncode\n",
    "            retcode = proc.wait()\n",
    "\n",
    "            if retcode:\n",
    "                raise subprocess.CalledProcessError(retcode, cmd)\n",
    "    except subprocess.CalledProcessError as e:\n",
    "        print(\"Command failed with error code:\", e.returncode, flush=True)\n",
    "        raise\n",
    "\n",
    "\n",
    "@task\n",
    "def nextflow_run(input_gene_counts_file: FlyteFile) -> FlyteFile:\n",
    "    \"\"\"\n",
    "    Run a Nextflow pipeline using the provided gene counts file path on S3.\n",
    "\n",
    "    Parameters:\n",
    "    - input_gene_counts_file (FlyteFile): Input gene counts file in FlyteFile format (S3).\n",
    "\n",
    "    Returns:\n",
    "    - FlyteFile: Output file generated by the Nextflow pipeline (rows with counts greater than or equal to MINIMUM_COUNT)\n",
    "    \"\"\"\n",
    "    working_dir = flytekit.current_context().working_directory\n",
    "    output_path = Path(os.path.join(working_dir, \"output.tsv\"))\n",
    "\n",
    "    subp_run(\n",
    "        [\n",
    "            \"nextflow\",\n",
    "            \"run\",\n",
    "            \"workflows/gene_count_example.nf\",\n",
    "            \"-plugins\",\n",
    "            \"nf-amazon\",\n",
    "            \"--gene_counts\",\n",
    "            input_gene_counts_file,\n",
    "            \"--outdir\",\n",
    "            working_dir,\n",
    "        ]\n",
    "    )\n",
    "    return FlyteFile(path=output_path)\n",
    "\n",
    "\n",
    "output = NamedTuple(\n",
    "    \"output\",\n",
    "    output=FlyteFile,\n",
    ")\n",
    "\n",
    "\n",
    "@workflow\n",
    "def gene_count(input_gene_counts_file: FlyteFile) -> output:\n",
    "    \"\"\"\n",
    "    Runs a nextflow code that ingests s3 file of gene counts (tsv) and returns a subset of a dataframe if count>=MINIMUM_COUNT defined in nextflow script.\n",
    "\n",
    "    Parameters:\n",
    "    - gene_counts_dir (str): S3 path where gene_counts.tsv can be found. (see s3 location in resources)\n",
    "\n",
    "    Returns:\n",
    "    - output (FlyteFile): subset of original dataframe generated by nextflow\n",
    "    \"\"\"\n",
    "    return output(output=nextflow_run(input_gene_counts_file=input_gene_counts_file))\n"
   ]
  },
  {
   "cell_type": "markdown",
   "id": "de256ee1",
   "metadata": {},
   "source": [
    "we will discuss how you can easily run this flyte workflow later."
   ]
  },
  {
   "cell_type": "markdown",
   "id": "4d20d6d8",
   "metadata": {},
   "source": [
    "## Option 2\n",
    "### Conversion of the Nextflow pipeline to Flyte\n",
    "\n",
    "Similar to option 1, You can initialize your project by running the following command"
   ]
  },
  {
   "cell_type": "code",
   "execution_count": 10,
   "id": "217f0b76-50a7-4936-90e1-e604c75f4da5",
   "metadata": {},
   "outputs": [
    {
     "name": "stdout",
     "output_type": "stream",
     "text": [
      "Created workflow scaffold in native_flyte_example. When you are ready, run the register action to package and upload your changes to Betteromics.\r\n"
     ]
    }
   ],
   "source": [
    "!betteromics init remote-config native_flyte_example \\\n",
    "                        --git-url $betteromics_github_repo \\\n",
    "                        --flyte-template workflow-templates/native_flyte_example"
   ]
  },
  {
   "cell_type": "markdown",
   "id": "2c52b25e-7d9e-4326-b384-b0ccf9fb26ec",
   "metadata": {},
   "source": [
    "We now should have a Flyte workflow and necessary files initialized, e.g., `native_flyte_example/workflows/native_flyte.py`. Below, we have fully converted the [example Nextflow pipeline](#Nextflow-example) to a flyte workflow.  "
   ]
  },
  {
   "cell_type": "code",
   "execution_count": null,
   "id": "6e3a04e1",
   "metadata": {},
   "outputs": [],
   "source": [
    "# %load native_flyte_example/workflows/native_flyte.py\n",
    "\"\"\"\n",
    "This module defines a Flyte workflow for filtering genes based on a minimum count threshold (MINIMUM_COUNT).\n",
    "\"\"\"\n",
    "from typing import NamedTuple\n",
    "import pandas as pd\n",
    "import os\n",
    "import flytekit\n",
    "from flytekit import task, workflow\n",
    "from flytekit.types.file import FlyteFile\n",
    "\n",
    "MINIMUM_COUNT = 10\n",
    "\n",
    "\n",
    "@task\n",
    "def filter_low_gene_counts(gene_counts_file: FlyteFile) -> FlyteFile:\n",
    "    \"\"\"\n",
    "    Task for filtering gene counts based on a minimum count threshold (MINIMUM_COUNT).\n",
    "\n",
    "    Parameters:\n",
    "    - gene_counts_file (FlyteFile): Input gene counts file in FlyteFile format (S3).\n",
    "\n",
    "    Returns:\n",
    "    - FlyteFile: Output gene counts file containing rows with counts greater than or equal to MINIMUM_COUNT.\n",
    "    \"\"\"\n",
    "    working_dir = flytekit.current_context().working_directory\n",
    "    output_path = os.path.join(working_dir, \"output.tsv\")\n",
    "    gene_counts = pd.read_csv(gene_counts_file, sep=\"\\t\")\n",
    "    gene_counts = gene_counts[gene_counts[\"count\"] >= MINIMUM_COUNT]\n",
    "    gene_counts.to_csv(output_path, sep=\"\\t\", index=False)\n",
    "\n",
    "    return FlyteFile(path=output_path)\n",
    "\n",
    "\n",
    "output = NamedTuple(\n",
    "    \"output\",\n",
    "    output=FlyteFile,\n",
    ")\n",
    "\n",
    "\n",
    "@workflow\n",
    "def gene_count(gene_counts_file: FlyteFile) -> output:\n",
    "    \"\"\"Ingests s3 file path with gene counts (tsv) and returns a subset of a dataframe if count>=MINIMUM_COUNT\n",
    "\n",
    "    Args:\n",
    "        gene_counts_dir (FlyteFile): S3 path where gene_counts.tsv file can be found. (see s3 location in resources)\n",
    "\n",
    "    Returns:\n",
    "        output (FlyteFile): subset of original dataframe\n",
    "    \"\"\"\n",
    "    return output(output=filter_low_gene_counts(gene_counts_file=gene_counts_file))\n"
   ]
  },
  {
   "cell_type": "markdown",
   "id": "b8370ce2",
   "metadata": {},
   "source": [
    "# Registering and running the new workflow on Betteromics"
   ]
  },
  {
   "cell_type": "markdown",
   "id": "085374e6",
   "metadata": {},
   "source": [
    "You should now be able to register your workflow by following the command below. \n",
    "\n",
    "<pre>\n",
    "betteromics --context {PROJECT_DIRECTORY} {YOUR_ENVIRONMENT} register {WORKFLOW_NAME} {WORKFLOW_DIRECTORY}\n",
    "</pre>\n",
    "\n",
    "\n",
    "On your **terminal** run the following depending on the option you chose earlier:"
   ]
  },
  {
   "cell_type": "markdown",
   "id": "c88222ac-058a-492f-822a-14fec30d4697",
   "metadata": {},
   "source": [
    "For Nextflow Subprocess Example:\n",
    "<pre>\n",
    "betteromics --context {your_environment} register nextflow_subprocess_example \"Nextflow Subprocess Example\" \"workflows.nf_subprocess.gene_count\"\n",
    "</pre>"
   ]
  },
  {
   "cell_type": "markdown",
   "id": "6e9f3d03",
   "metadata": {},
   "source": [
    "or for Native Flyte Example (option 2):\n",
    "\n",
    "<pre>\n",
    "betteromics --context {your_environment} register native_flyte_example \"Native Flyte Example\" \"workflows.native_flyte.gene_count\"\n",
    "</pre>\n"
   ]
  },
  {
   "cell_type": "markdown",
   "id": "3daf853d",
   "metadata": {},
   "source": [
    "Once you successfully register your workflow, you will be able to see it in the user interface and execute the workflow after inserting all the necessary input data. \n",
    "Please note that you can choose your input data from the resource dropdown in the web UI in any of the following formats:\n",
    "* Local file upload\n",
    "* From S3 path\n",
    "* Google Drive\n",
    "* Existing Resources\n",
    "* Benchling notebook\n",
    "\n"
   ]
  }
 ],
 "metadata": {
  "kernelspec": {
   "display_name": "Python 3 (ipykernel)",
   "language": "python",
   "name": "python3"
  },
  "language_info": {
   "codemirror_mode": {
    "name": "ipython",
    "version": 3
   },
   "file_extension": ".py",
   "mimetype": "text/x-python",
   "name": "python",
   "nbconvert_exporter": "python",
   "pygments_lexer": "ipython3",
   "version": "3.11.5"
  }
 },
 "nbformat": 4,
 "nbformat_minor": 5
}
